{
 "cells": [
  {
   "cell_type": "markdown",
   "metadata": {},
   "source": [
    "# Decorrelated Random Forests for Image Classification"
   ]
  },
  {
   "cell_type": "markdown",
   "metadata": {},
   "source": [
    "## Import Libraries"
   ]
  },
  {
   "cell_type": "code",
   "execution_count": 1,
   "metadata": {
    "collapsed": true
   },
   "outputs": [],
   "source": [
    "%matplotlib inline\n",
    "import htcv\n",
    "\n",
    "import math\n",
    "import numpy as np\n",
    "import scipy.io\n",
    "from matplotlib import pyplot as plt"
   ]
  },
  {
   "cell_type": "markdown",
   "metadata": {},
   "source": [
    "## Load USPS Data"
   ]
  },
  {
   "cell_type": "code",
   "execution_count": 2,
   "metadata": {
    "collapsed": true
   },
   "outputs": [],
   "source": [
    "def load_usps_data(fname):\n",
    "    ''' Loads USPS (United State Postal Service) data from <fname>\n",
    "    Definition:  X, Y = load_usps_data(fname)\n",
    "    Input:       fname   - string\n",
    "    Output:      X       -  DxN array with N images with D pixels\n",
    "                 Y       -  10xN array with labels\n",
    "    '''\n",
    "    # load the data\n",
    "    data = scipy.io.loadmat(fname)\n",
    "    # extract images and labels\n",
    "    X = data['data_patterns']\n",
    "    Y = data['data_labels']\n",
    "    return X, Y"
   ]
  },
  {
   "cell_type": "code",
   "execution_count": 3,
   "metadata": {
    "collapsed": false
   },
   "outputs": [
    {
     "data": {
      "text/plain": [
       "((2007, 16, 16), dtype('<f8'), (10, 2007), dtype('bool'))"
      ]
     },
     "execution_count": 3,
     "metadata": {},
     "output_type": "execute_result"
    }
   ],
   "source": [
    "X_raw,Y_raw = load_usps_data('data/usps.mat')\n",
    "img_width = int(X_raw.shape[0] ** .5)\n",
    "\n",
    "X = np.transpose(X_raw.reshape(img_width, img_width, -1), (2,0,1))\n",
    "Y = Y_raw > 0\n",
    "\n",
    "X.shape,X.dtype,Y.shape,Y.dtype"
   ]
  },
  {
   "cell_type": "markdown",
   "metadata": {},
   "source": [
    "## Example of image from the dataset"
   ]
  },
  {
   "cell_type": "code",
   "execution_count": 4,
   "metadata": {
    "collapsed": false
   },
   "outputs": [
    {
     "data": {
      "image/png": "[encoded data removed]",
      "text/plain": [
       "<matplotlib.figure.Figure at 0x10d2052b0>"
      ]
     },
     "metadata": {},
     "output_type": "display_data"
    }
   ],
   "source": [
    "idx_examples = [Y[i].nonzero()[0][0] for i in range(10)]\n",
    "for i,idx in enumerate(idx_examples):\n",
    "    plt.subplot(2, 5, i+1)\n",
    "    plt.imshow(X[idx], cmap='gray')"
   ]
  },
  {
   "cell_type": "markdown",
   "metadata": {},
   "source": [
    "## Train a Random Forest"
   ]
  },
  {
   "cell_type": "code",
   "execution_count": 5,
   "metadata": {
    "collapsed": false
   },
   "outputs": [
    {
     "data": {
      "text/plain": [
       "((2007, 16, 16), (2007,), dtype('uint8'))"
      ]
     },
     "execution_count": 5,
     "metadata": {},
     "output_type": "execute_result"
    }
   ],
   "source": [
    "X_train = X\n",
    "Y_train = Y.argmax(axis=0).astype(np.uint8)\n",
    "\n",
    "X_train.shape,Y_train.shape,Y_train.dtype"
   ]
  },
  {
   "cell_type": "code",
   "execution_count": 6,
   "metadata": {
    "collapsed": true
   },
   "outputs": [],
   "source": [
    "# Force always the same results\n",
    "np.random.seed(0)\n",
    "htcv.NUM_CLASSES = 10\n",
    "\n",
    "trees,subsets,_ = htcv.fit(X_train, Y_train, num_trees=10,\n",
    "                         height=5, sample_size=X_train.shape[0] // 4)"
   ]
  },
  {
   "cell_type": "markdown",
   "metadata": {},
   "source": [
    "## Evaluate the RF in the training set"
   ]
  },
  {
   "cell_type": "code",
   "execution_count": 7,
   "metadata": {
    "collapsed": true
   },
   "outputs": [],
   "source": [
    "def error_rate(predictions, Y):\n",
    "    predicted_classes = predictions.argmax(axis=1)\n",
    "    return np.count_nonzero(predicted_classes != Y) / Y.size"
   ]
  },
  {
   "cell_type": "code",
   "execution_count": 8,
   "metadata": {
    "collapsed": false,
    "scrolled": true
   },
   "outputs": [
    {
     "data": {
      "text/plain": [
       "0.25959142999501744"
      ]
     },
     "execution_count": 8,
     "metadata": {},
     "output_type": "execute_result"
    }
   ],
   "source": [
    "predictions,_ = htcv.predictFromForest(X_train, trees)\n",
    "error_rate(predictions, Y_train)"
   ]
  },
  {
   "cell_type": "markdown",
   "metadata": {},
   "source": [
    "## Colect Out-of-bag generalization error"
   ]
  },
  {
   "cell_type": "code",
   "execution_count": 9,
   "metadata": {
    "collapsed": false
   },
   "outputs": [
    {
     "data": {
      "text/plain": [
       "0.29895366218236175"
      ]
     },
     "execution_count": 9,
     "metadata": {},
     "output_type": "execute_result"
    }
   ],
   "source": [
    "oob_idx,oob_predictions,Qxy,Qxj_hat,p = htcv.out_of_bag_prediction(\n",
    "    trees,\n",
    "    subsets,\n",
    "    X_train,\n",
    "    Y_train)\n",
    "\n",
    "error_rate(oob_predictions[oob_idx], Y_train[oob_idx])"
   ]
  },
  {
   "cell_type": "markdown",
   "metadata": {},
   "source": [
    "## Colect Out-of-bag strength and correlation"
   ]
  },
  {
   "cell_type": "code",
   "execution_count": 10,
   "metadata": {
    "collapsed": false
   },
   "outputs": [
    {
     "name": "stdout",
     "output_type": "stream",
     "text": [
      "Strength:\t 0.23565\n",
      "Correlation:\t 0.23469\n",
      "c/s² Ratio:\t 4.22633\n"
     ]
    }
   ],
   "source": [
    "s,ro = htcv.strength_correlation(Qxy[oob_idx], Qxj_hat[oob_idx], p[:2], Y_train[oob_idx])\n",
    "\n",
    "print(\"Strength:\\t %.5f\" % s)\n",
    "print(\"Correlation:\\t %.5f\" % ro)\n",
    "print(\"c/s² Ratio:\\t %.5f\" % (ro / s**2 if s>0 else np.inf))"
   ]
  }
 ],
 "metadata": {
  "kernelspec": {
   "display_name": "Python 3",
   "language": "python",
   "name": "python3"
  },
  "language_info": {
   "codemirror_mode": {
    "name": "ipython",
    "version": 3
   },
   "file_extension": ".py",
   "mimetype": "text/x-python",
   "name": "python",
   "nbconvert_exporter": "python",
   "pygments_lexer": "ipython3",
   "version": "3.6.0"
  }
 },
 "nbformat": 4,
 "nbformat_minor": 2
}
